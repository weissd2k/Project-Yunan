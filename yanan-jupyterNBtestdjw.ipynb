{
  "cells": [
    {
      "cell_type": "markdown",
      "metadata": {
        "id": "view-in-github",
        "colab_type": "text"
      },
      "source": [
        "<a href=\"https://colab.research.google.com/github/weissd2k/Yunan-2021-22/blob/main/yanan-jupyterNBtestdjw.ipynb\" target=\"_parent\"><img src=\"https://colab.research.google.com/assets/colab-badge.svg\" alt=\"Open In Colab\"/></a>"
      ]
    },
    {
      "cell_type": "code",
      "execution_count": 3,
      "id": "80e52d43",
      "metadata": {
        "id": "80e52d43"
      },
      "outputs": [],
      "source": [
        "\"\"\"\n",
        "@author: Yanan Xiong\n",
        "and this is a test \n",
        "\"\"\"\n",
        "\n",
        "import numpy as np\n",
        "import matplotlib.pyplot as plt\n",
        "from sklearn.linear_model import LinearRegression\n",
        "from scipy.optimize import curve_fit,least_squares\n",
        "from matplotlib.pyplot import MultipleLocator\n",
        "import warnings\n",
        "import datetime\n",
        "\n",
        "#Definitions of Global variables\n",
        "C0 = 1 # initial concentration of adsorbate\n",
        "Cs = 40.0 # initial concentration of adsorbent\n",
        "t = np.array([0,\n",
        "5,\n",
        "10,\n",
        "15,\n",
        "20,\n",
        "25,\n",
        "30,\n",
        "35,\n",
        "40])\n",
        "qt = np.array([0,\n",
        "0.011238,\n",
        "0.014984,\n",
        "0.01873,\n",
        "0.022476,\n",
        "0.0239744,\n",
        "0.0239744,\n",
        "0.0239744,\n",
        "0.0239744])\n",
        "dt=0.001\n",
        "\n",
        "warnings.filterwarnings('ignore')"
      ]
    },
    {
      "cell_type": "markdown",
      "id": "e6df06dc",
      "metadata": {
        "id": "e6df06dc"
      },
      "source": [
        "#### PSO takes the form:\n",
        "\\begin{equation}\\label{eq1}\n",
        "    \\frac{dq_{t}}{dt} = k_{2}(q_{e} - q_{t})^{2}\n",
        "\\end{equation}\n",
        "where $t$ is the time (minutes), $q_{t}$ is the amount of adsorbate adsorbed per mass of adsorbent at time $t$ (mg g$^{-1}$), and $q_{e}$ is the amount of adsorbate adsorbed at equilibrium (mg g$^{-1}$).\n",
        "\n",
        "When apply the boundary conditions $t=0$ and $t=t$, $qt=0$ and $qt=qt$ and integrate eq1, we can have:\n",
        "\\begin{equation}\\label{eq4}\n",
        "    q_t = \\frac{q_{e}^{2}kt}{1+q_{e}t}\n",
        "\\end{equation}\n",
        "\n",
        "#### linearized PSO\n",
        "The first approach towards the adsorption kinetics uses the linearized form of the integrated PSO rate equation\n",
        "\\begin{equation}\\label{eq5}\n",
        "    \\frac{t}{q_{t}} = \\frac{1}{k_{2}q_{e}^{2}} + \\frac{t}{q_{e}}\n",
        "\\end{equation}\n",
        "which can be regarded as a linear form of $y = mx + c$. $\\frac{t}{q_{t}}$ is plotted as a function of $t$, where $m$ is the slope of the linear regression and $c$ is the y-intercept. The linear regression was implement using the built-in function $LinearRegression()$ from $sklearn$ package, which minimising the residual sum of squares between the data points and the linear regression. Hence, the equilibrium adsorption parameter $q_{e} = \\frac{1}{m}$ and the $k_{2} = \\frac{1}{cq_{e}^{2}}$.\n",
        "\n",
        "#### nonlinearized PSO\n",
        "Secondly, the nonlinear PSO kinetics were calculated, via an in-built function named $curve\\_solve$ from the $SciPy$ package, which minimizes the sum of squared residuals between the model and experimental data, and has function has no limit to the type of curve. The initial guess applied for $curve\\_solve$ is the results obtained from the linear regression."
      ]
    },
    {
      "cell_type": "code",
      "execution_count": 4,
      "id": "ec3289f5",
      "metadata": {
        "id": "ec3289f5"
      },
      "outputs": [],
      "source": [
        "### equation to get q by PSO\n",
        "\n",
        "def PSO_getQ(t,qe,k2):\n",
        "    return t/((t/qe)+(1/(k2*qe**2)))\n",
        "\n",
        "### linear PSO\n",
        "\n",
        "def PSO_linear(t,qt):\n",
        "    # get the m and c for the linearized curve\n",
        "    t_qt = t[1:]/qt[1:]\n",
        "    t1=t.reshape(-1,1)\n",
        "    model = LinearRegression()\n",
        "    model.fit(t1[1:],t_qt)\n",
        "    c = float(model.intercept_)\n",
        "    m = float(model.coef_)\n",
        "    \n",
        "    # calculate the parameters (qe and k2) from the c,m\n",
        "    qe = 1/m\n",
        "    k2 = 1/(c*qe*qe)\n",
        "    \n",
        "    # calculate the r^2 value\n",
        "    q_model = PSO_getQ(t,qe,k2)\n",
        "    r_sq = 1 - ((qt-q_model)**2).sum()/((qt-qt.mean())**2).sum()\n",
        "\n",
        "    \n",
        "    return qe,k2,r_sq\n",
        "### nonlinear PSO\n",
        "\n",
        "def PSO_nonlinear(t,qt):\n",
        "    # use the qe,k2 from linear method as initial guess\n",
        "    p1,p2,_ = PSO_linear(t,qt)\n",
        "    p0 = np.array([p1,p2])\n",
        "    # find the optimised parameters qe,k2 fitting the PSO equation,\n",
        "    # by using the given t,qt\n",
        "    popt,pcov = curve_fit(PSO_getQ, t, qt, p0=p0)\n",
        "    qe,k2 = popt\n",
        "    \n",
        "    # calculate the r^2 value \n",
        "    q_model = PSO_getQ(t,qe,k2)\n",
        "    r_sq = 1 - ((qt-q_model)**2).sum()/((qt-qt.mean())**2).sum()\n",
        "    \n",
        "    return qe,k2,r_sq"
      ]
    },
    {
      "cell_type": "markdown",
      "id": "aa9d4975",
      "metadata": {
        "id": "aa9d4975"
      },
      "source": [
        "### revised PSO\n",
        "#### The concentration of aqueous adsorbate left at time $t$ is \n",
        "\\begin{equation}\\label{eq2}\n",
        "    C_{t} = C_{0} - C_{s}q_{t}\n",
        "\\end{equation}\n",
        "where $C_{t}$ is the concentration of the aqueous adsorbate at time $t$ (mg L$^{-1}$), $C_{0}$ is the initial adsorbate concentration at $t$ = 0 (mg L$^{-1}$), and {$C_{s}$} is the concentration of the adsorbent (g L$^{-1}$).\n",
        "\n",
        "#### revised PSO takes the form: \n",
        "\\begin{equation}\\label{eq3}\n",
        "    \\frac{dq_{t}}{dt} = k'C_{t} (1 - \\frac{q_{t}}{q_{e}})^{2}\n",
        "\\end{equation}\n",
        "where the unit of rate constant $k'$ is L g$^{-1}$min$^{-1}$.\n",
        "For including the operation conditions $C_{0}$ and $C_{t}$ in the equation, the $k'$ here substitutes the $\\frac{k_{2}q_{e}^{2}}{C_{0}^{2}}$, combining the eq1 and eq2 together. \n",
        "\n",
        "Thirdly, the kinetics were obtained from the revised rate equation eq3. Due to the difficulty of integration of the rPSO, Bullen expressed the adsorbed adsorbate at the $n$th data point as \n",
        "\\begin{equation}\\label{eq6}\n",
        "    q_{n} = q_{n-1} + ((t_{n} - t_{n-1})(k'C_{t(n-1)}(1-\\frac{q{n-1}}{q_{e}})^{2}))\n",
        "\\end{equation}\n",
        "The rPSO parameters $k'$ and $q_{e}$ were obtained by fitting the model to the experimental data via $curve_solve$ to minimize the sum of squared residuals. Both results from the linear and nonlinear PSO were used as the initial guess. They show the same results for the used set of experimental data.\n"
      ]
    },
    {
      "cell_type": "code",
      "execution_count": 5,
      "id": "838b93bd",
      "metadata": {
        "id": "838b93bd"
      },
      "outputs": [],
      "source": [
        "### equation to get q by revised PSO\n",
        "\n",
        "def rPSO_getQ(t,qe,kprime):\n",
        "    # create time series with dt timestep\n",
        "    t1 = np.arange(0,t[-1]+dt,dt)\n",
        "    t_index = np.array(t*(1/dt),'i')\n",
        "    # calculate qt for each timestep\n",
        "    q = np.zeros(len(t1),dtype=\"float\")\n",
        "    q_model = []\n",
        "    for i in range(1,len(t1)):\n",
        "        q[i] = q[i-1]+(dt*(kprime*(C0-Cs*q[i-1])*(1-q[i-1]/qe)**2))\n",
        "    # extract data points corresponding to the experimental data\n",
        "    for j in t_index:\n",
        "        q_model.append(q[j])\n",
        "    return q_model\n",
        "\n",
        "def rPSO_nonlinear(t,qt):           \n",
        "\n",
        "    p1,p2,_ = PSO_nonlinear(t,qt)\n",
        "    p1 = float(p1)\n",
        "    p2 = float(p2*p1**2/C0**2)\n",
        "    p0 = np.array([p1,p2])\n",
        "    \n",
        "    # find the optimised parameters qe,k2 fitting the PSO equation,\n",
        "    # by using the given t,qt\n",
        "    popt,pcov = curve_fit(rPSO_getQ, t, qt, p0=p0,bounds=([0.00000001,0],np.inf))\n",
        "    qe,kprime = popt\n",
        "    \n",
        "    # calculate the r^2 value \n",
        "    q_model = rPSO_getQ(t,qe,kprime)\n",
        "    r_sq = 1 - ((qt-q_model)**2).sum()/((qt-qt.mean())**2).sum()\n",
        "    return qe,kprime,r_sq\n",
        "\n"
      ]
    },
    {
      "cell_type": "code",
      "execution_count": 6,
      "id": "dba105ed",
      "metadata": {
        "id": "dba105ed"
      },
      "outputs": [],
      "source": [
        "def MonteCarlo(q_model,qe,k,func):\n",
        "    # create the array to store the parameters obtained by the two MonteCarlo simulations\n",
        "    k_MC = np.zeros(200)\n",
        "    qe_MC = np.zeros(200)\n",
        "    \n",
        "    size = np.size(t)\n",
        "    SSE = np.sum(np.square(q_model-qt))\n",
        "    std = np.sqrt(SSE/(size-2))\n",
        "    q_monte = np.zeros(size)\n",
        "    \n",
        "    # repeat the Monte Carlo simulation for 200 times \n",
        "    for i in range(200):\n",
        "        q_monte = q_model + np.random.normal(0, std, size = (size,))\n",
        "        # put the simulated data into models to obtain the parameters\n",
        "        qe_MC[i],k_MC[i],_ = func(t,q_monte)\n",
        "        \n",
        "    # qe and k in confidence level of 95%\n",
        "    qe_MC = sorted(qe_MC)\n",
        "    k_MC = sorted(k_MC)\n",
        "    qe_CL = qe_MC[5:195]\n",
        "    k_CL = k_MC[5:195]\n",
        "\n",
        "    # uncertainties\n",
        "    qe_un = (qe_CL[-1]-qe_CL[0])/2\n",
        "    k_un = (k_CL[-1]-k_CL[0])/2\n",
        "    \n",
        "    return qe_un,k_un"
      ]
    },
    {
      "cell_type": "markdown",
      "id": "c15fc554",
      "metadata": {
        "id": "c15fc554"
      },
      "source": [
        "### Results"
      ]
    },
    {
      "cell_type": "code",
      "execution_count": 7,
      "id": "8823aa47",
      "metadata": {
        "id": "8823aa47",
        "outputId": "dec2efb3-6b97-418e-fb95-3ad54b0b45e9",
        "colab": {
          "base_uri": "https://localhost:8080/"
        }
      },
      "outputs": [
        {
          "output_type": "stream",
          "name": "stdout",
          "text": [
            "manna: linearised PSO\n",
            "qe: 0.029932 +- 0.003022\n",
            "k2: 4.036879 +- 1.719304\n",
            "R^2: 0.986769\n",
            "qt_model: [0.         0.01127323 0.01637809 0.01928975 0.02117167 0.02248805\n",
            " 0.0234605  0.02420825 0.0248011 ]\n"
          ]
        }
      ],
      "source": [
        "print(\"manna: linearised PSO\")\n",
        "qe,k2,r_sq= PSO_linear(t,qt)\n",
        "q_model= t/((t/qe)+(1/(k2*qe**2)))\n",
        "qe_un,k2_un = MonteCarlo(q_model,qe,k2,PSO_linear)\n",
        "print(f\"qe: {'%.6f'%qe} +- {'%.6f'%qe_un}\")\n",
        "print(f\"k2: {'%.6f'%k2} +- {'%.6f'%k2_un}\")\n",
        "print(f\"R^2: {'%.6f'%r_sq}\")\n",
        "print(f\"qt_model: {q_model}\")"
      ]
    },
    {
      "cell_type": "code",
      "execution_count": 8,
      "id": "d8806aef",
      "metadata": {
        "id": "d8806aef",
        "outputId": "28447ddc-92fc-4a27-9dcf-2279a1cc9055",
        "colab": {
          "base_uri": "https://localhost:8080/"
        }
      },
      "outputs": [
        {
          "output_type": "stream",
          "name": "stdout",
          "text": [
            "manna: non linearised PSO\n",
            "qe: 0.030751 +- 0.002407\n",
            "k2: 3.609864 +- 1.277394\n",
            "R^2: 0.987404\n",
            "qt_model: [0.         0.01097567 0.01617728 0.01921231 0.0212011  0.02260509\n",
            " 0.02364916 0.024456   0.0250982 ]\n"
          ]
        }
      ],
      "source": [
        "print(\"manna: non linearised PSO\")\n",
        "qe,k2,r_sq= PSO_nonlinear(t,qt)\n",
        "q_model= t/((t/qe)+(1/(k2*qe**2)))\n",
        "qe_un,k2_un = MonteCarlo(q_model,qe,k2,PSO_nonlinear)\n",
        "print(f\"qe: {'%.6f'%qe} +- {'%.6f'%qe_un}\")\n",
        "print(f\"k2: {'%.6f'%k2} +- {'%.6f'%k2_un}\")\n",
        "print(f\"R^2: {'%.6f'%r_sq}\")\n",
        "print(f\"qt_model: {q_model}\")"
      ]
    },
    {
      "cell_type": "code",
      "execution_count": null,
      "id": "7bd4a85a",
      "metadata": {
        "id": "7bd4a85a",
        "outputId": "2a5ab0ab-e02b-4c83-e2c3-38eafa18ee78",
        "colab": {
          "base_uri": "https://localhost:8080/"
        }
      },
      "outputs": [
        {
          "output_type": "stream",
          "name": "stdout",
          "text": [
            "manna: nonlinear rPSO\n"
          ]
        }
      ],
      "source": [
        "starttime = datetime.datetime.now()\n",
        "print('manna: nonlinear rPSO')\n",
        "qe,kprime,r_sq= rPSO_nonlinear(t,qt)\n",
        "q_model= rPSO_getQ(t,qe,kprime)\n",
        "qe_un,kprime_un = MonteCarlo(q_model,qe,kprime,rPSO_nonlinear)\n",
        "print(f\"qe: {'%.6f'%qe} +- {'%.6f'%qe_un}\")\n",
        "print(f\"k2: {'%.6f'%kprime} +- {'%.6f'%kprime_un}\")\n",
        "print(f\"R^2: {'%.6f'%r_sq}\")\n",
        "print(f\"qt_model: {q_model}\")\n",
        "endtime = datetime.datetime.now()\n",
        "print(endtime - starttime)"
      ]
    },
    {
      "cell_type": "markdown",
      "id": "7c405e24",
      "metadata": {
        "id": "7c405e24"
      },
      "source": [
        "### Visualized as plots"
      ]
    },
    {
      "cell_type": "code",
      "execution_count": null,
      "id": "69cfe3af",
      "metadata": {
        "scrolled": true,
        "id": "69cfe3af"
      },
      "outputs": [],
      "source": [
        "plt.figure(figsize = (12,5),label=\"Manna PSO\")\n",
        "plt.figure(1)\n",
        "ax1 = plt.subplot(131)\n",
        "plt.title('linear PSO')\n",
        "plt.scatter(t,qt,label = \"observed data\")\n",
        "qe,k2,r_sq= PSO_linear(t,qt)\n",
        "q_model= t/((t/qe)+(1/(k2*qe**2)))\n",
        "plt.plot(t,q_model,\"red\",label = \"linear PSO\")\n",
        "ax1.legend(loc='upper left')\n",
        "ax1.legend(\"R^2: {r_sq}\")\n",
        "ax1.legend(fontsize=6)\n",
        "ax1.set_xlabel('Time (mins)')\n",
        "ax1.set_ylabel('qt (mg g-1)')\n",
        "new_ticks = np.linspace(0, 1.1*qt.max(), 10)\n",
        "plt.yticks(new_ticks)\n",
        "\n",
        "ax2 = plt.subplot(132)\n",
        "plt.title('non linear PSO')\n",
        "plt.scatter(t,qt,label = \"observed data\")\n",
        "qe,k2,r_sq= PSO_nonlinear(t,qt)\n",
        "q_model= t/((t/qe)+(1/(k2*qe**2)))\n",
        "plt.plot(t,q_model,'red', label =\"non linear PSO\")\n",
        "ax2.legend(loc='upper left')\n",
        "ax2.legend(\"R^2: {r_sq}\")\n",
        "ax2.legend(fontsize=6)\n",
        "ax2.set_xlabel('Time (mins)')\n",
        "ax2.set_ylabel('qt (mg g-1)')\n",
        "new_ticks = np.linspace(0, 1.1*qt.max(), 10)\n",
        "plt.yticks(new_ticks)\n",
        "\n",
        "ax3 = plt.subplot(133)\n",
        "plt.title('non linear rPSO')\n",
        "plt.scatter(t,qt,label = \"observed data\")\n",
        "qe,kprime,r_sq= rPSO_nonlinear(t,qt)\n",
        "q_model= rPSO_getQ(t,qe,kprime)\n",
        "plt.plot(t,q_model,\"green\",label =\"non linear rPSO\")\n",
        "ax3.legend(loc='upper left')\n",
        "ax3.legend(\"R^2: {r_sq}\")\n",
        "ax3.legend(fontsize=6)\n",
        "ax3.set_xlabel('Time (mins)')\n",
        "ax3.set_ylabel('qt (mg g-1)')\n",
        "new_ticks = np.linspace(0, 1.1*qt.max(), 10)\n",
        "plt.yticks(new_ticks)\n",
        "plt.show()"
      ]
    },
    {
      "cell_type": "markdown",
      "id": "26c37801",
      "metadata": {
        "id": "26c37801"
      },
      "source": [
        "### 5 Aug\n",
        "#### Progress so far\n",
        "1. latest code to solve the three models and Uncertainty analysis(Monte Carlo)\n",
        "2. Excel to record the results for datasets\n",
        "3. plots: experiment vs models\n",
        "4. plots: relative errors of model results\n",
        "\n",
        "#### Question:\n",
        "1. [Cs] data 5: wrong C0 value - causing negative Ct\n",
        "https://link.springer.com/article/10.1007/s11356-012-0984-z\n",
        "\n",
        "2. There are minor difference for rPSO between excel and code, about 0.03%, which may be caused by desimal places. Jay says <1% is fine in chemistry. \n",
        "\n",
        "3. The relative erros of the model results show a pattern. Ususlly the at the beginning of experiment, the rPSO model shows smaller error than other models. However, the rPSO usually show a little bigger than other models, esprcially when the experiment time is long. I am wondering I should split the data into groups (ie, t<40 and t>40). Is there any proper spliting standard?\n"
      ]
    },
    {
      "cell_type": "code",
      "execution_count": null,
      "id": "8af89b7e",
      "metadata": {
        "id": "8af89b7e"
      },
      "outputs": [],
      "source": [
        ""
      ]
    }
  ],
  "metadata": {
    "kernelspec": {
      "display_name": "Python 3 (ipykernel)",
      "language": "python",
      "name": "python3"
    },
    "language_info": {
      "codemirror_mode": {
        "name": "ipython",
        "version": 3
      },
      "file_extension": ".py",
      "mimetype": "text/x-python",
      "name": "python",
      "nbconvert_exporter": "python",
      "pygments_lexer": "ipython3",
      "version": "3.9.12"
    },
    "colab": {
      "name": "yanan-jupyterNB.ipynb",
      "provenance": [],
      "include_colab_link": true
    }
  },
  "nbformat": 4,
  "nbformat_minor": 5
}